{
 "cells": [
  {
   "cell_type": "code",
   "execution_count": 22,
   "metadata": {},
   "outputs": [],
   "source": [
    "import pandas as pd\n",
    "from binance.client import Client\n",
    "from dotenv import load_dotenv\n",
    "import os\n",
    "import datetime as dt"
   ]
  },
  {
   "cell_type": "code",
   "execution_count": 23,
   "metadata": {},
   "outputs": [],
   "source": [
    "load_dotenv()\n",
    "\n",
    "# client configuration\n",
    "api_key = os.getenv('API_KEY')\n",
    "api_secret = os.getenv('API_SECRET')\n",
    "client = Client(api_key, api_secret)"
   ]
  },
  {
   "cell_type": "code",
   "execution_count": null,
   "metadata": {},
   "outputs": [],
   "source": [
    "symbol = \"BTCUSDT\"\n",
    "interval = \"2h\"\n",
    "\n",
    "klines = client.get_historical_klines(\n",
    "    symbol, interval, \"1 Jan, 2018\")\n",
    "\n",
    "data = pd.DataFrame(klines)\n",
    "print(data.shape)\n",
    "\n",
    "# create columns name\n",
    "data.columns = ['open_time', 'open', 'high', 'low', 'close', 'volume',\n",
    "                'close_time', 'qav', 'num_trades', 'taker_base_vol', 'taker_quote_vol', 'ignore']\n",
    "\n",
    "# converted Epoch timestamp to readable format\n",
    "data.open_time = [dt.datetime.fromtimestamp(\n",
    "    x/1000.0).strftime(\"%Y-%m-%d %H:%M:%S\") for x in data.open_time]\n",
    "data.close_time = [dt.datetime.fromtimestamp(\n",
    "    x/1000.0).strftime(\"%Y-%m-%d %H:%M:%S\") for x in data.close_time]\n",
    "\n",
    "# drop columns\n",
    "data = data.drop(['qav', 'taker_base_vol', 'taker_quote_vol', 'ignore'], axis=1)\n",
    "\n",
    "# save dataFrame as .csv\n",
    "data.to_csv(f\"./data/{symbol}_{interval}.csv\", index=None, header=True)\n"
   ]
  }
 ],
 "metadata": {
  "interpreter": {
   "hash": "f2f8864d2066ba36aea4a7e912ab5045f6f392a07165ad707f63b94c843adfc2"
  },
  "kernelspec": {
   "display_name": "Python 3.9.2 64-bit",
   "language": "python",
   "name": "python3"
  },
  "language_info": {
   "codemirror_mode": {
    "name": "ipython",
    "version": 3
   },
   "file_extension": ".py",
   "mimetype": "text/x-python",
   "name": "python",
   "nbconvert_exporter": "python",
   "pygments_lexer": "ipython3",
   "version": "3.9.2"
  },
  "orig_nbformat": 4
 },
 "nbformat": 4,
 "nbformat_minor": 2
}
